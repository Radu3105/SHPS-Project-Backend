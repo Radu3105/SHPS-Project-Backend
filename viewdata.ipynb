{
 "cells": [
  {
   "attachments": {},
   "cell_type": "markdown",
   "metadata": {},
   "source": [
    "Import libraries used for creating the model"
   ]
  },
  {
   "cell_type": "code",
   "execution_count": 13,
   "metadata": {},
   "outputs": [],
   "source": [
    "import numpy as np\n",
    "import pandas as pd\n",
    "from matplotlib import pyplot as plt \n",
    "from sklearn.tree import DecisionTreeClassifier\n",
    "from sklearn.metrics import accuracy_score\n",
    "from sklearn import tree\n",
    "import joblib"
   ]
  },
  {
   "attachments": {},
   "cell_type": "markdown",
   "metadata": {},
   "source": [
    "\n",
    "Get train data and test data from the csv files"
   ]
  },
  {
   "cell_type": "code",
   "execution_count": 14,
   "metadata": {},
   "outputs": [],
   "source": [
    "train_data = pd.read_csv('./training/Training.csv')\n",
    "test_data = pd.read_csv('./training/Testing.csv')"
   ]
  },
  {
   "attachments": {},
   "cell_type": "markdown",
   "metadata": {},
   "source": [
    "Clean train data and generate inputs and outputs"
   ]
  },
  {
   "cell_type": "code",
   "execution_count": 15,
   "metadata": {},
   "outputs": [],
   "source": [
    "\n",
    "train_data_clean = train_data.drop(columns=['Unnamed: 133'])\n",
    "X_train = train_data_clean.drop(columns=['prognosis'])\n",
    "y_train = train_data_clean['prognosis']\n",
    "\n",
    "X_test = test_data.drop(columns=['prognosis'])\n",
    "y_test = test_data['prognosis']"
   ]
  },
  {
   "attachments": {},
   "cell_type": "markdown",
   "metadata": {},
   "source": [
    "Create the model instance of the Decision Tree Classifier"
   ]
  },
  {
   "cell_type": "code",
   "execution_count": 16,
   "metadata": {},
   "outputs": [
    {
     "data": {
      "text/html": [
       "<style>#sk-container-id-2 {color: black;background-color: white;}#sk-container-id-2 pre{padding: 0;}#sk-container-id-2 div.sk-toggleable {background-color: white;}#sk-container-id-2 label.sk-toggleable__label {cursor: pointer;display: block;width: 100%;margin-bottom: 0;padding: 0.3em;box-sizing: border-box;text-align: center;}#sk-container-id-2 label.sk-toggleable__label-arrow:before {content: \"▸\";float: left;margin-right: 0.25em;color: #696969;}#sk-container-id-2 label.sk-toggleable__label-arrow:hover:before {color: black;}#sk-container-id-2 div.sk-estimator:hover label.sk-toggleable__label-arrow:before {color: black;}#sk-container-id-2 div.sk-toggleable__content {max-height: 0;max-width: 0;overflow: hidden;text-align: left;background-color: #f0f8ff;}#sk-container-id-2 div.sk-toggleable__content pre {margin: 0.2em;color: black;border-radius: 0.25em;background-color: #f0f8ff;}#sk-container-id-2 input.sk-toggleable__control:checked~div.sk-toggleable__content {max-height: 200px;max-width: 100%;overflow: auto;}#sk-container-id-2 input.sk-toggleable__control:checked~label.sk-toggleable__label-arrow:before {content: \"▾\";}#sk-container-id-2 div.sk-estimator input.sk-toggleable__control:checked~label.sk-toggleable__label {background-color: #d4ebff;}#sk-container-id-2 div.sk-label input.sk-toggleable__control:checked~label.sk-toggleable__label {background-color: #d4ebff;}#sk-container-id-2 input.sk-hidden--visually {border: 0;clip: rect(1px 1px 1px 1px);clip: rect(1px, 1px, 1px, 1px);height: 1px;margin: -1px;overflow: hidden;padding: 0;position: absolute;width: 1px;}#sk-container-id-2 div.sk-estimator {font-family: monospace;background-color: #f0f8ff;border: 1px dotted black;border-radius: 0.25em;box-sizing: border-box;margin-bottom: 0.5em;}#sk-container-id-2 div.sk-estimator:hover {background-color: #d4ebff;}#sk-container-id-2 div.sk-parallel-item::after {content: \"\";width: 100%;border-bottom: 1px solid gray;flex-grow: 1;}#sk-container-id-2 div.sk-label:hover label.sk-toggleable__label {background-color: #d4ebff;}#sk-container-id-2 div.sk-serial::before {content: \"\";position: absolute;border-left: 1px solid gray;box-sizing: border-box;top: 0;bottom: 0;left: 50%;z-index: 0;}#sk-container-id-2 div.sk-serial {display: flex;flex-direction: column;align-items: center;background-color: white;padding-right: 0.2em;padding-left: 0.2em;position: relative;}#sk-container-id-2 div.sk-item {position: relative;z-index: 1;}#sk-container-id-2 div.sk-parallel {display: flex;align-items: stretch;justify-content: center;background-color: white;position: relative;}#sk-container-id-2 div.sk-item::before, #sk-container-id-2 div.sk-parallel-item::before {content: \"\";position: absolute;border-left: 1px solid gray;box-sizing: border-box;top: 0;bottom: 0;left: 50%;z-index: -1;}#sk-container-id-2 div.sk-parallel-item {display: flex;flex-direction: column;z-index: 1;position: relative;background-color: white;}#sk-container-id-2 div.sk-parallel-item:first-child::after {align-self: flex-end;width: 50%;}#sk-container-id-2 div.sk-parallel-item:last-child::after {align-self: flex-start;width: 50%;}#sk-container-id-2 div.sk-parallel-item:only-child::after {width: 0;}#sk-container-id-2 div.sk-dashed-wrapped {border: 1px dashed gray;margin: 0 0.4em 0.5em 0.4em;box-sizing: border-box;padding-bottom: 0.4em;background-color: white;}#sk-container-id-2 div.sk-label label {font-family: monospace;font-weight: bold;display: inline-block;line-height: 1.2em;}#sk-container-id-2 div.sk-label-container {text-align: center;}#sk-container-id-2 div.sk-container {/* jupyter's `normalize.less` sets `[hidden] { display: none; }` but bootstrap.min.css set `[hidden] { display: none !important; }` so we also need the `!important` here to be able to override the default hidden behavior on the sphinx rendered scikit-learn.org. See: https://github.com/scikit-learn/scikit-learn/issues/21755 */display: inline-block !important;position: relative;}#sk-container-id-2 div.sk-text-repr-fallback {display: none;}</style><div id=\"sk-container-id-2\" class=\"sk-top-container\"><div class=\"sk-text-repr-fallback\"><pre>DecisionTreeClassifier()</pre><b>In a Jupyter environment, please rerun this cell to show the HTML representation or trust the notebook. <br />On GitHub, the HTML representation is unable to render, please try loading this page with nbviewer.org.</b></div><div class=\"sk-container\" hidden><div class=\"sk-item\"><div class=\"sk-estimator sk-toggleable\"><input class=\"sk-toggleable__control sk-hidden--visually\" id=\"sk-estimator-id-2\" type=\"checkbox\" checked><label for=\"sk-estimator-id-2\" class=\"sk-toggleable__label sk-toggleable__label-arrow\">DecisionTreeClassifier</label><div class=\"sk-toggleable__content\"><pre>DecisionTreeClassifier()</pre></div></div></div></div></div>"
      ],
      "text/plain": [
       "DecisionTreeClassifier()"
      ]
     },
     "execution_count": 16,
     "metadata": {},
     "output_type": "execute_result"
    }
   ],
   "source": [
    "model = DecisionTreeClassifier()\n",
    "model.fit(X_train, y_train)"
   ]
  },
  {
   "attachments": {},
   "cell_type": "markdown",
   "metadata": {},
   "source": [
    "Make predictions based on the test inputs"
   ]
  },
  {
   "cell_type": "code",
   "execution_count": 17,
   "metadata": {},
   "outputs": [],
   "source": [
    "y_pred = model.predict(X_test)"
   ]
  },
  {
   "attachments": {},
   "cell_type": "markdown",
   "metadata": {},
   "source": [
    "Verify the accuracy of the model"
   ]
  },
  {
   "cell_type": "code",
   "execution_count": 18,
   "metadata": {},
   "outputs": [
    {
     "name": "stdout",
     "output_type": "stream",
     "text": [
      "Score: 97.61904761904762%\n"
     ]
    }
   ],
   "source": [
    "score = accuracy_score(y_pred, y_test)\n",
    "print(f'Score: {score * 100}%')"
   ]
  },
  {
   "cell_type": "code",
   "execution_count": 19,
   "metadata": {},
   "outputs": [],
   "source": [
    "# pd.set_option('display.max_rows', None)\n",
    "pd.set_option('display.max_columns', None)\n",
    "# train_data_clean.head(20)"
   ]
  },
  {
   "cell_type": "code",
   "execution_count": 20,
   "metadata": {},
   "outputs": [],
   "source": [
    "# pd.set_option('display.max_rows', None)\n",
    "# rows_with_value_1 = train_data_clean[train_data_clean.isin(['Fungal infection']).any(axis=1)]\n",
    "# rows_with_value_1\n",
    "# cols = []\n",
    "# for i in range(rows_with_value_1.shape[0]):\n",
    "#     cols.append(rows_with_value_1.columns[rows_with_value_1.loc[i] == 1])\n",
    "# cols"
   ]
  },
  {
   "attachments": {},
   "cell_type": "markdown",
   "metadata": {},
   "source": [
    "Get all symptoms for disease"
   ]
  },
  {
   "cell_type": "code",
   "execution_count": 21,
   "metadata": {},
   "outputs": [],
   "source": [
    "# diseases = list(set(train_data_clean['prognosis']))\n",
    "# for disease in diseases:\n",
    "    "
   ]
  },
  {
   "cell_type": "code",
   "execution_count": 22,
   "metadata": {},
   "outputs": [
    {
     "data": {
      "text/plain": [
       "(4920, 133)"
      ]
     },
     "execution_count": 22,
     "metadata": {},
     "output_type": "execute_result"
    }
   ],
   "source": [
    "train_data_clean.shape"
   ]
  },
  {
   "cell_type": "code",
   "execution_count": 23,
   "metadata": {},
   "outputs": [
    {
     "name": "stderr",
     "output_type": "stream",
     "text": [
      "c:\\Users\\radug\\anaconda3\\lib\\site-packages\\sklearn\\base.py:420: UserWarning: X does not have valid feature names, but DecisionTreeClassifier was fitted with feature names\n",
      "  warnings.warn(\n"
     ]
    },
    {
     "data": {
      "text/plain": [
       "array(['Urinary tract infection'], dtype=object)"
      ]
     },
     "execution_count": 23,
     "metadata": {},
     "output_type": "execute_result"
    }
   ],
   "source": [
    "test_data = [[]]\n",
    "for i in range(132):\n",
    "    test_data[0].append(0)\n",
    "test_data\n",
    "\n",
    "model.predict(test_data)"
   ]
  },
  {
   "cell_type": "code",
   "execution_count": 24,
   "metadata": {},
   "outputs": [
    {
     "data": {
      "text/plain": [
       "itching                                              0\n",
       "skin_rash                                            0\n",
       "nodal_skin_eruptions                                 0\n",
       "continuous_sneezing                                  0\n",
       "shivering                                            0\n",
       "chills                                               0\n",
       "joint_pain                                           0\n",
       "stomach_pain                                         0\n",
       "acidity                                              0\n",
       "ulcers_on_tongue                                     0\n",
       "muscle_wasting                                       0\n",
       "vomiting                                             0\n",
       "burning_micturition                                  0\n",
       "spotting_ urination                                  0\n",
       "fatigue                                              0\n",
       "weight_gain                                          0\n",
       "anxiety                                              0\n",
       "cold_hands_and_feets                                 0\n",
       "mood_swings                                          0\n",
       "weight_loss                                          0\n",
       "restlessness                                         0\n",
       "lethargy                                             0\n",
       "patches_in_throat                                    0\n",
       "irregular_sugar_level                                0\n",
       "cough                                                0\n",
       "high_fever                                           0\n",
       "sunken_eyes                                          0\n",
       "breathlessness                                       0\n",
       "sweating                                             0\n",
       "dehydration                                          0\n",
       "indigestion                                          0\n",
       "headache                                             0\n",
       "yellowish_skin                                       0\n",
       "dark_urine                                           0\n",
       "nausea                                               0\n",
       "loss_of_appetite                                     0\n",
       "pain_behind_the_eyes                                 0\n",
       "back_pain                                            1\n",
       "constipation                                         0\n",
       "abdominal_pain                                       0\n",
       "diarrhoea                                            0\n",
       "mild_fever                                           0\n",
       "yellow_urine                                         0\n",
       "yellowing_of_eyes                                    0\n",
       "acute_liver_failure                                  0\n",
       "fluid_overload                                       0\n",
       "swelling_of_stomach                                  0\n",
       "swelled_lymph_nodes                                  0\n",
       "malaise                                              0\n",
       "blurred_and_distorted_vision                         0\n",
       "phlegm                                               0\n",
       "throat_irritation                                    0\n",
       "redness_of_eyes                                      0\n",
       "sinus_pressure                                       0\n",
       "runny_nose                                           0\n",
       "congestion                                           0\n",
       "chest_pain                                           0\n",
       "weakness_in_limbs                                    0\n",
       "fast_heart_rate                                      0\n",
       "pain_during_bowel_movements                          0\n",
       "pain_in_anal_region                                  0\n",
       "bloody_stool                                         0\n",
       "irritation_in_anus                                   0\n",
       "neck_pain                                            1\n",
       "dizziness                                            1\n",
       "cramps                                               0\n",
       "bruising                                             0\n",
       "obesity                                              0\n",
       "swollen_legs                                         0\n",
       "swollen_blood_vessels                                0\n",
       "puffy_face_and_eyes                                  0\n",
       "enlarged_thyroid                                     0\n",
       "brittle_nails                                        0\n",
       "swollen_extremeties                                  0\n",
       "excessive_hunger                                     0\n",
       "extra_marital_contacts                               0\n",
       "drying_and_tingling_lips                             0\n",
       "slurred_speech                                       0\n",
       "knee_pain                                            0\n",
       "hip_joint_pain                                       0\n",
       "muscle_weakness                                      0\n",
       "stiff_neck                                           0\n",
       "swelling_joints                                      0\n",
       "movement_stiffness                                   0\n",
       "spinning_movements                                   0\n",
       "loss_of_balance                                      1\n",
       "unsteadiness                                         0\n",
       "weakness_of_one_body_side                            0\n",
       "loss_of_smell                                        0\n",
       "bladder_discomfort                                   0\n",
       "foul_smell_of urine                                  0\n",
       "continuous_feel_of_urine                             0\n",
       "passage_of_gases                                     0\n",
       "internal_itching                                     0\n",
       "toxic_look_(typhos)                                  0\n",
       "depression                                           0\n",
       "irritability                                         0\n",
       "muscle_pain                                          0\n",
       "altered_sensorium                                    0\n",
       "red_spots_over_body                                  0\n",
       "belly_pain                                           0\n",
       "abnormal_menstruation                                0\n",
       "dischromic _patches                                  0\n",
       "watering_from_eyes                                   0\n",
       "increased_appetite                                   0\n",
       "polyuria                                             0\n",
       "family_history                                       0\n",
       "mucoid_sputum                                        0\n",
       "rusty_sputum                                         0\n",
       "lack_of_concentration                                0\n",
       "visual_disturbances                                  0\n",
       "receiving_blood_transfusion                          0\n",
       "receiving_unsterile_injections                       0\n",
       "coma                                                 0\n",
       "stomach_bleeding                                     0\n",
       "distention_of_abdomen                                0\n",
       "history_of_alcohol_consumption                       0\n",
       "fluid_overload.1                                     0\n",
       "blood_in_sputum                                      0\n",
       "prominent_veins_on_calf                              0\n",
       "palpitations                                         0\n",
       "painful_walking                                      0\n",
       "pus_filled_pimples                                   0\n",
       "blackheads                                           0\n",
       "scurring                                             0\n",
       "skin_peeling                                         0\n",
       "silver_like_dusting                                  0\n",
       "small_dents_in_nails                                 0\n",
       "inflammatory_nails                                   0\n",
       "blister                                              0\n",
       "red_sore_around_nose                                 0\n",
       "yellow_crust_ooze                                    0\n",
       "prognosis                         Cervical spondylosis\n",
       "Name: 123, dtype: object"
      ]
     },
     "execution_count": 24,
     "metadata": {},
     "output_type": "execute_result"
    }
   ],
   "source": [
    "\n",
    "pd.set_option('display.max_rows', None)\n",
    "pd.set_option('display.max_columns', None)\n",
    "train_data_clean.iloc[123]"
   ]
  },
  {
   "cell_type": "code",
   "execution_count": 25,
   "metadata": {},
   "outputs": [
    {
     "ename": "AttributeError",
     "evalue": "'DataFrame' object has no attribute 'feature_names'",
     "output_type": "error",
     "traceback": [
      "\u001b[1;31m---------------------------------------------------------------------------\u001b[0m",
      "\u001b[1;31mAttributeError\u001b[0m                            Traceback (most recent call last)",
      "Cell \u001b[1;32mIn[25], line 3\u001b[0m\n\u001b[0;32m      1\u001b[0m fig \u001b[39m=\u001b[39m plt\u001b[39m.\u001b[39mfigure(figsize\u001b[39m=\u001b[39m(\u001b[39m25\u001b[39m,\u001b[39m20\u001b[39m))\n\u001b[0;32m      2\u001b[0m _ \u001b[39m=\u001b[39m tree\u001b[39m.\u001b[39mplot_tree(model, \n\u001b[1;32m----> 3\u001b[0m                    feature_names\u001b[39m=\u001b[39mtrain_data\u001b[39m.\u001b[39;49mfeature_names,  \n\u001b[0;32m      4\u001b[0m                    class_names\u001b[39m=\u001b[39mtrain_data\u001b[39m.\u001b[39mtarget_names,\n\u001b[0;32m      5\u001b[0m                    filled\u001b[39m=\u001b[39m\u001b[39mTrue\u001b[39;00m)\n",
      "File \u001b[1;32mc:\\Users\\radug\\anaconda3\\lib\\site-packages\\pandas\\core\\generic.py:5902\u001b[0m, in \u001b[0;36mNDFrame.__getattr__\u001b[1;34m(self, name)\u001b[0m\n\u001b[0;32m   5895\u001b[0m \u001b[39mif\u001b[39;00m (\n\u001b[0;32m   5896\u001b[0m     name \u001b[39mnot\u001b[39;00m \u001b[39min\u001b[39;00m \u001b[39mself\u001b[39m\u001b[39m.\u001b[39m_internal_names_set\n\u001b[0;32m   5897\u001b[0m     \u001b[39mand\u001b[39;00m name \u001b[39mnot\u001b[39;00m \u001b[39min\u001b[39;00m \u001b[39mself\u001b[39m\u001b[39m.\u001b[39m_metadata\n\u001b[0;32m   5898\u001b[0m     \u001b[39mand\u001b[39;00m name \u001b[39mnot\u001b[39;00m \u001b[39min\u001b[39;00m \u001b[39mself\u001b[39m\u001b[39m.\u001b[39m_accessors\n\u001b[0;32m   5899\u001b[0m     \u001b[39mand\u001b[39;00m \u001b[39mself\u001b[39m\u001b[39m.\u001b[39m_info_axis\u001b[39m.\u001b[39m_can_hold_identifiers_and_holds_name(name)\n\u001b[0;32m   5900\u001b[0m ):\n\u001b[0;32m   5901\u001b[0m     \u001b[39mreturn\u001b[39;00m \u001b[39mself\u001b[39m[name]\n\u001b[1;32m-> 5902\u001b[0m \u001b[39mreturn\u001b[39;00m \u001b[39mobject\u001b[39;49m\u001b[39m.\u001b[39;49m\u001b[39m__getattribute__\u001b[39;49m(\u001b[39mself\u001b[39;49m, name)\n",
      "\u001b[1;31mAttributeError\u001b[0m: 'DataFrame' object has no attribute 'feature_names'"
     ]
    },
    {
     "data": {
      "text/plain": [
       "<Figure size 2500x2000 with 0 Axes>"
      ]
     },
     "metadata": {},
     "output_type": "display_data"
    }
   ],
   "source": [
    "fig = plt.figure(figsize=(25,20))\n",
    "_ = tree.plot_tree(model, \n",
    "                   feature_names=train_data.feature_names,  \n",
    "                   class_names=train_data.target_names,\n",
    "                   filled=True)"
   ]
  }
 ],
 "metadata": {
  "kernelspec": {
   "display_name": "Python 3",
   "language": "python",
   "name": "python3"
  },
  "language_info": {
   "codemirror_mode": {
    "name": "ipython",
    "version": 3
   },
   "file_extension": ".py",
   "mimetype": "text/x-python",
   "name": "python",
   "nbconvert_exporter": "python",
   "pygments_lexer": "ipython3",
   "version": "3.10.9"
  },
  "orig_nbformat": 4
 },
 "nbformat": 4,
 "nbformat_minor": 2
}
